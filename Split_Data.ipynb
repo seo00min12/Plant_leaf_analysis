{
 "cells": [
  {
   "cell_type": "markdown",
   "id": "36e266e5-b52c-42fd-8d46-1b54091f3cb2",
   "metadata": {},
   "source": [
    "### 실험 설계를 위한 데이터 분할"
   ]
  },
  {
   "cell_type": "code",
   "execution_count": 83,
   "id": "0b2914e2-03e1-42a8-9c76-211d8c50584b",
   "metadata": {},
   "outputs": [],
   "source": [
    "# Background_without_leaves, Blueberry___healthy, Orange___Haunglongbing_(Citrus_greening),\n",
    "# Raspberry___healthy, Soybean___healthy, Squash___Powdery_mildew\n",
    "\n",
    "# 위의 6개 폴더는 실험과 적합하지 않다고 판단되어 삭제"
   ]
  },
  {
   "cell_type": "code",
   "execution_count": 80,
   "id": "9c9bda0b-1077-4129-bd68-95a9403663f6",
   "metadata": {},
   "outputs": [],
   "source": [
    "import os\n",
    "import shutil\n",
    "import math"
   ]
  },
  {
   "cell_type": "code",
   "execution_count": 45,
   "id": "a3863e76-68e1-44b8-8766-b8a3bbd0ff2c",
   "metadata": {},
   "outputs": [],
   "source": [
    "original_dataset_dir = './Plant_leave_diseases_dataset_without_augmentation'  # 원본 데이터셋이 위치한 경로 지정"
   ]
  },
  {
   "cell_type": "code",
   "execution_count": 47,
   "id": "235a4e27-4658-47cc-be2d-422ec38f3dbf",
   "metadata": {},
   "outputs": [],
   "source": [
    "classes_list = os.listdir(original_dataset_dir)                     # 데이터 셋의 하위 폴더 가져오기"
   ]
  },
  {
   "cell_type": "code",
   "execution_count": 49,
   "id": "7015b028-792b-4002-8e51-c35f041b52e8",
   "metadata": {},
   "outputs": [],
   "source": [
    "base_dir = './splitted'                                     # 분할 폴더 경로 생성(해당 폴더에 훈련데이터 넣을 예정)"
   ]
  },
  {
   "cell_type": "code",
   "execution_count": 51,
   "id": "e69ed125-3bfa-4eee-afd9-f0a14b9dd806",
   "metadata": {},
   "outputs": [],
   "source": [
    "os.mkdir(base_dir)                                     "
   ]
  },
  {
   "cell_type": "code",
   "execution_count": null,
   "id": "b5f34a67-77f5-44cc-932e-99c8af0c7d0c",
   "metadata": {},
   "outputs": [],
   "source": []
  },
  {
   "cell_type": "code",
   "execution_count": null,
   "id": "2969a810-65ef-4023-adcd-22e355251a7d",
   "metadata": {},
   "outputs": [],
   "source": [
    "# 분할 폴더 안 하위 폴더 생성"
   ]
  },
  {
   "cell_type": "code",
   "execution_count": 54,
   "id": "bf41c41f-92c0-4525-8cf4-ab8459e224ff",
   "metadata": {},
   "outputs": [],
   "source": [
    "train_dir = os.path.join(base_dir , 'train')"
   ]
  },
  {
   "cell_type": "code",
   "execution_count": 56,
   "id": "abe183d6-2f00-41d6-932f-b0bc02dd0969",
   "metadata": {},
   "outputs": [],
   "source": [
    "os.mkdir(train_dir)"
   ]
  },
  {
   "cell_type": "code",
   "execution_count": 58,
   "id": "39166679-09c9-431c-8fed-e9054521ca70",
   "metadata": {},
   "outputs": [],
   "source": [
    "validation_dir = os.path.join(base_dir , 'val')"
   ]
  },
  {
   "cell_type": "code",
   "execution_count": 60,
   "id": "b4b01b5d-d5c7-4636-b6ae-6e394f552474",
   "metadata": {},
   "outputs": [],
   "source": [
    "os.mkdir(validation_dir)"
   ]
  },
  {
   "cell_type": "code",
   "execution_count": 62,
   "id": "677e9232-1154-4c40-9a97-57c9956b2d16",
   "metadata": {},
   "outputs": [],
   "source": [
    "test_dir = os.path.join(base_dir , 'test')"
   ]
  },
  {
   "cell_type": "code",
   "execution_count": 64,
   "id": "5307b5f5-1d51-439a-b86d-7d1387aa9ed4",
   "metadata": {},
   "outputs": [],
   "source": [
    "os.mkdir(test_dir)"
   ]
  },
  {
   "cell_type": "code",
   "execution_count": null,
   "id": "3cf0d1d9-ef83-4016-a23c-3885ce1e3315",
   "metadata": {},
   "outputs": [],
   "source": []
  },
  {
   "cell_type": "code",
   "execution_count": null,
   "id": "e983cf02-2177-44f2-8b89-91da2ff2cebf",
   "metadata": {},
   "outputs": [],
   "source": [
    "# 데이터 셋에 있는 폴더들을 전송(폴더만 데이터는 X)"
   ]
  },
  {
   "cell_type": "code",
   "execution_count": 68,
   "id": "506206d7-2438-478b-b9af-c74320e4b49e",
   "metadata": {},
   "outputs": [],
   "source": [
    "for clss in classes_list:\n",
    "    os.mkdir(os.path.join(train_dir,clss))\n",
    "    os.mkdir(os.path.join(validation_dir,clss))\n",
    "    os.mkdir(os.path.join(test_dir,clss))"
   ]
  },
  {
   "cell_type": "code",
   "execution_count": null,
   "id": "6f558e4a-3015-4313-825f-f2370452fde5",
   "metadata": {},
   "outputs": [],
   "source": []
  },
  {
   "cell_type": "code",
   "execution_count": null,
   "id": "0bfbee35-8b95-4b56-9cfb-fe30763358e7",
   "metadata": {},
   "outputs": [],
   "source": []
  },
  {
   "cell_type": "code",
   "execution_count": null,
   "id": "5411c6b8-1103-4f4a-8823-0f207a589290",
   "metadata": {},
   "outputs": [],
   "source": []
  },
  {
   "cell_type": "code",
   "execution_count": 73,
   "id": "f33baf9e-03a4-444d-93c1-4385f68c7828",
   "metadata": {},
   "outputs": [],
   "source": [
    "#데이터를 분할하여 각 전송한 폴더에 이동(0.6,0.2,0.2 비율로 데이터들을 전송)"
   ]
  },
  {
   "cell_type": "code",
   "execution_count": 79,
   "id": "ce72dc19-6272-4c5b-a0b1-b1521779d451",
   "metadata": {},
   "outputs": [
    {
     "name": "stdout",
     "output_type": "stream",
     "text": [
      "train size( Apple___Apple_scab ):  378\n",
      "validation size( Apple___Apple_scab ) :  126\n",
      "test size( Apple___Apple_scab ) :  126\n",
      "train size( Apple___Black_rot ):  372\n",
      "validation size( Apple___Black_rot ) :  124\n",
      "test size( Apple___Black_rot ) :  124\n",
      "train size( Apple___Cedar_apple_rust ):  165\n",
      "validation size( Apple___Cedar_apple_rust ) :  55\n",
      "test size( Apple___Cedar_apple_rust ) :  55\n",
      "train size( Apple___healthy ):  987\n",
      "validation size( Apple___healthy ) :  329\n",
      "test size( Apple___healthy ) :  329\n",
      "train size( Background_without_leaves ):  685\n",
      "validation size( Background_without_leaves ) :  228\n",
      "test size( Background_without_leaves ) :  228\n",
      "train size( Blueberry___healthy ):  901\n",
      "validation size( Blueberry___healthy ) :  300\n",
      "test size( Blueberry___healthy ) :  300\n",
      "train size( Cherry___healthy ):  512\n",
      "validation size( Cherry___healthy ) :  170\n",
      "test size( Cherry___healthy ) :  170\n",
      "train size( Cherry___Powdery_mildew ):  631\n",
      "validation size( Cherry___Powdery_mildew ) :  210\n",
      "test size( Cherry___Powdery_mildew ) :  210\n",
      "train size( Corn___Cercospora_leaf_spot Gray_leaf_spot ):  307\n",
      "validation size( Corn___Cercospora_leaf_spot Gray_leaf_spot ) :  102\n",
      "test size( Corn___Cercospora_leaf_spot Gray_leaf_spot ) :  102\n",
      "train size( Corn___Common_rust ):  715\n",
      "validation size( Corn___Common_rust ) :  238\n",
      "test size( Corn___Common_rust ) :  238\n",
      "train size( Corn___healthy ):  697\n",
      "validation size( Corn___healthy ) :  232\n",
      "test size( Corn___healthy ) :  232\n",
      "train size( Corn___Northern_Leaf_Blight ):  591\n",
      "validation size( Corn___Northern_Leaf_Blight ) :  197\n",
      "test size( Corn___Northern_Leaf_Blight ) :  197\n",
      "train size( Grape___Black_rot ):  708\n",
      "validation size( Grape___Black_rot ) :  236\n",
      "test size( Grape___Black_rot ) :  236\n",
      "train size( Grape___Esca_(Black_Measles) ):  829\n",
      "validation size( Grape___Esca_(Black_Measles) ) :  276\n",
      "test size( Grape___Esca_(Black_Measles) ) :  276\n",
      "train size( Grape___healthy ):  253\n",
      "validation size( Grape___healthy ) :  84\n",
      "test size( Grape___healthy ) :  84\n",
      "train size( Grape___Leaf_blight_(Isariopsis_Leaf_Spot) ):  645\n",
      "validation size( Grape___Leaf_blight_(Isariopsis_Leaf_Spot) ) :  215\n",
      "test size( Grape___Leaf_blight_(Isariopsis_Leaf_Spot) ) :  215\n",
      "train size( Orange___Haunglongbing_(Citrus_greening) ):  3304\n",
      "validation size( Orange___Haunglongbing_(Citrus_greening) ) :  1101\n",
      "test size( Orange___Haunglongbing_(Citrus_greening) ) :  1101\n",
      "train size( Peach___Bacterial_spot ):  1378\n",
      "validation size( Peach___Bacterial_spot ) :  459\n",
      "test size( Peach___Bacterial_spot ) :  459\n",
      "train size( Peach___healthy ):  216\n",
      "validation size( Peach___healthy ) :  72\n",
      "test size( Peach___healthy ) :  72\n",
      "train size( Pepper,_bell___Bacterial_spot ):  598\n",
      "validation size( Pepper,_bell___Bacterial_spot ) :  199\n",
      "test size( Pepper,_bell___Bacterial_spot ) :  199\n",
      "train size( Pepper,_bell___healthy ):  886\n",
      "validation size( Pepper,_bell___healthy ) :  295\n",
      "test size( Pepper,_bell___healthy ) :  295\n",
      "train size( Potato___Early_blight ):  600\n",
      "validation size( Potato___Early_blight ) :  200\n",
      "test size( Potato___Early_blight ) :  200\n",
      "train size( Potato___healthy ):  91\n",
      "validation size( Potato___healthy ) :  30\n",
      "test size( Potato___healthy ) :  30\n",
      "train size( Potato___Late_blight ):  600\n",
      "validation size( Potato___Late_blight ) :  200\n",
      "test size( Potato___Late_blight ) :  200\n",
      "train size( Raspberry___healthy ):  222\n",
      "validation size( Raspberry___healthy ) :  74\n",
      "test size( Raspberry___healthy ) :  74\n",
      "train size( Soybean___healthy ):  3054\n",
      "validation size( Soybean___healthy ) :  1018\n",
      "test size( Soybean___healthy ) :  1018\n",
      "train size( Squash___Powdery_mildew ):  1101\n",
      "validation size( Squash___Powdery_mildew ) :  367\n",
      "test size( Squash___Powdery_mildew ) :  367\n",
      "train size( Strawberry___healthy ):  273\n",
      "validation size( Strawberry___healthy ) :  91\n",
      "test size( Strawberry___healthy ) :  91\n",
      "train size( Strawberry___Leaf_scorch ):  665\n",
      "validation size( Strawberry___Leaf_scorch ) :  221\n",
      "test size( Strawberry___Leaf_scorch ) :  221\n",
      "train size( Tomato___Bacterial_spot ):  1276\n",
      "validation size( Tomato___Bacterial_spot ) :  425\n",
      "test size( Tomato___Bacterial_spot ) :  425\n",
      "train size( Tomato___Early_blight ):  600\n",
      "validation size( Tomato___Early_blight ) :  200\n",
      "test size( Tomato___Early_blight ) :  200\n",
      "train size( Tomato___healthy ):  954\n",
      "validation size( Tomato___healthy ) :  318\n",
      "test size( Tomato___healthy ) :  318\n",
      "train size( Tomato___Late_blight ):  1145\n",
      "validation size( Tomato___Late_blight ) :  381\n",
      "test size( Tomato___Late_blight ) :  381\n",
      "train size( Tomato___Leaf_Mold ):  571\n",
      "validation size( Tomato___Leaf_Mold ) :  190\n",
      "test size( Tomato___Leaf_Mold ) :  190\n",
      "train size( Tomato___Septoria_leaf_spot ):  1062\n",
      "validation size( Tomato___Septoria_leaf_spot ) :  354\n",
      "test size( Tomato___Septoria_leaf_spot ) :  354\n",
      "train size( Tomato___Spider_mites Two-spotted_spider_mite ):  1005\n",
      "validation size( Tomato___Spider_mites Two-spotted_spider_mite ) :  335\n",
      "test size( Tomato___Spider_mites Two-spotted_spider_mite ) :  335\n",
      "train size( Tomato___Target_Spot ):  842\n",
      "validation size( Tomato___Target_Spot ) :  280\n",
      "test size( Tomato___Target_Spot ) :  280\n",
      "train size( Tomato___Tomato_mosaic_virus ):  223\n",
      "validation size( Tomato___Tomato_mosaic_virus ) :  74\n",
      "test size( Tomato___Tomato_mosaic_virus ) :  74\n",
      "train size( Tomato___Tomato_Yellow_Leaf_Curl_Virus ):  3214\n",
      "validation size( Tomato___Tomato_Yellow_Leaf_Curl_Virus ) :  1071\n",
      "test size( Tomato___Tomato_Yellow_Leaf_Curl_Virus ) :  1071\n"
     ]
    }
   ],
   "source": [
    "for clss in classes_list:\n",
    "    path = os.path.join(original_dataset_dir,clss)\n",
    "    fnames = os.listdir(path)\n",
    "    train_size = math.floor(len(fnames)*0.6)\n",
    "    validation_size = math.floor(len(fnames)*0.2)\n",
    "    test_size = math.floor(len(fnames)*0.2)\n",
    "    train_fnames = fnames[:train_size]\n",
    "    print('train size(',clss,'): ',len(train_fnames))\n",
    "    for fname in train_fnames:\n",
    "        src = os.path.join(path, fname)\n",
    "        dst = os.path.join(os.path.join(train_dir,clss),fname)\n",
    "        shutil.copyfile(src,dst)\n",
    "\n",
    "    validation_fnames = fnames[train_size:(validation_size + train_size)]\n",
    "    print('validation size(',clss,') : ',len(validation_fnames))\n",
    "    for fname in validation_fnames:\n",
    "        src = os.path.join(path, fname)\n",
    "        dst = os.path.join(os.path.join(validation_dir,clss),fname)\n",
    "        shutil.copyfile(src,dst)\n",
    "\n",
    "    test_fnames = fnames[(train_size + validation_size):\n",
    "    (validation_size + train_size + test_size)]\n",
    "    print('test size(',clss,') : ',len(test_fnames))\n",
    "    for fname in test_fnames:\n",
    "        src = os.path.join(path, fname)\n",
    "        dst = os.path.join(os.path.join(test_dir,clss),fname)\n",
    "        shutil.copyfile(src,dst)"
   ]
  },
  {
   "cell_type": "code",
   "execution_count": null,
   "id": "1ae66a8a-5da5-4019-9c18-5d73d208111b",
   "metadata": {},
   "outputs": [],
   "source": []
  }
 ],
 "metadata": {
  "kernelspec": {
   "display_name": "Python 3 (ipykernel)",
   "language": "python",
   "name": "python3"
  },
  "language_info": {
   "codemirror_mode": {
    "name": "ipython",
    "version": 3
   },
   "file_extension": ".py",
   "mimetype": "text/x-python",
   "name": "python",
   "nbconvert_exporter": "python",
   "pygments_lexer": "ipython3",
   "version": "3.12.4"
  }
 },
 "nbformat": 4,
 "nbformat_minor": 5
}
